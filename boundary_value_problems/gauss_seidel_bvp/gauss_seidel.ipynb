{
 "cells": [
  {
   "cell_type": "markdown",
   "id": "22da9153",
   "metadata": {},
   "source": [
    "# Gauss Seidel with and without Atkin Acceleration"
   ]
  },
  {
   "cell_type": "code",
   "execution_count": 1,
   "id": "2dbdd46b",
   "metadata": {},
   "outputs": [],
   "source": [
    "import numpy as np\n",
    "import matplotlib.pyplot as plt"
   ]
  },
  {
   "cell_type": "code",
   "execution_count": 2,
   "id": "b1bc3b29",
   "metadata": {},
   "outputs": [],
   "source": [
    "def forward_elimination(_A,_b):\n",
    "    n =  np.shape(_A)[0]\n",
    "    A = np.copy(_A)\n",
    "    b = np.copy(_b)\n",
    "    for k in range(0,n-1):\n",
    "        for i in range(k+1,n):\n",
    "            m = A[i,k]/A[k,k]\n",
    "            for j in range(k,n):\n",
    "                #print(i, j, A[i,j], A[k,j])\n",
    "                A[i,j] = A[i,j] - m*A[k,j]\n",
    "            b[i] = b[i] - m*b[k]\n",
    "    #print(A,b)\n",
    "    return A, b"
   ]
  },
  {
   "cell_type": "code",
   "execution_count": 3,
   "id": "10ae7a79",
   "metadata": {},
   "outputs": [],
   "source": [
    "def back_substitution(A,b):\n",
    "    n = np.shape(A)[0]\n",
    "    x = np.zeros(n)\n",
    "    x[n-1] = b[n-1] / A[n-1,n-1]\n",
    "    for i in range(n-2,-1,-1):\n",
    "        #print(i)\n",
    "        _sum = 0\n",
    "        for j in range(n-1,i,-1):\n",
    "            #print(\"j:\", j)\n",
    "            _sum += A[i,j] * x[j]\n",
    "        x[i] = (b[i] - _sum) / A[i,i]\n",
    "    \n",
    "    #print(x)\n",
    "    return x"
   ]
  },
  {
   "cell_type": "code",
   "execution_count": 5,
   "id": "da41be44",
   "metadata": {},
   "outputs": [
    {
     "name": "stdout",
     "output_type": "stream",
     "text": [
      "A:\n",
      " [[-2.2  1.   1. ]\n",
      " [ 0.8 -2.2  1. ]\n",
      " [ 1.   0.9 -2.1]]\n",
      "M:\n",
      " [[-2.2  0.   0. ]\n",
      " [ 0.8 -2.2  0. ]\n",
      " [ 1.   0.9 -2.1]]\n",
      "N:\n",
      " [[ 0 -1 -1]\n",
      " [ 0  0 -1]\n",
      " [ 0  0  0]]\n",
      "y:\n",
      " [0.2 0.4 0.2]\n"
     ]
    }
   ],
   "source": [
    "A = np.array([[-2.2,1,1], [0.8,-2.2,1], [1,0.9,-2.1]])\n",
    "print(\"A:\\n\" , A)\n",
    "M = np.array([[-2.2,0,0], [0.8,-2.2,0], [1,0.9,-2.1]])\n",
    "print(\"M:\\n\", M)\n",
    "N = np.array([[0,-1,-1], [0,0,-1], [0,0,0]])\n",
    "print(\"N:\\n\", N)\n",
    "y = np.array([.2,.4,.2])\n",
    "print(\"y:\\n\", y)\n",
    "x0 = np.zeros((3))"
   ]
  },
  {
   "cell_type": "code",
   "execution_count": 6,
   "id": "1a6f6b7c",
   "metadata": {},
   "outputs": [],
   "source": [
    "def gs_step(_M, _N, xk, _y):\n",
    "    C, b = forward_elimination(_M, np.matmul(_N, xk) + _y)\n",
    "    return back_substitution(C,b)\n",
    "\n",
    "def gauss_seidel(M, N, x0, y, iterations: int):\n",
    "    x = np.copy(x0)\n",
    "    history = []\n",
    "    history.append(x0)\n",
    "    for i in range(iterations):\n",
    "        x = gs_step(M,N,x,y)\n",
    "        #print(x)\n",
    "        history.append(x)\n",
    "    return x, history\n",
    "\n",
    "def gauss_seidel_check(M, N, x0, y, accuracy: float, exact_x):\n",
    "    x = np.copy(x0)\n",
    "    itr = 0\n",
    "    while (np.max(x-exact_x) > accuracy):\n",
    "        x = gs_step(M,N,x,y)\n",
    "        itr += 1\n",
    "    return x, itr\n",
    "\n",
    "def aitken_accel(x_p, x_c, x_n):\n",
    "    d = np.shape(x_p)[0]\n",
    "    _x = np.zeros(d)\n",
    "    for i in range(d):\n",
    "        if (x_n[i] - 2*x_c[i] + x_p[i]) == 0:\n",
    "            _x[i] = 0\n",
    "        else:\n",
    "            _x[i] = (x_n[i] - x_c[i])**2 / (x_n[i] - 2*x_c[i] + x_p[i])\n",
    "    return _x\n",
    "   \n",
    "def aitken(M, N, x0, y, iterations):\n",
    "    x_prev = np.copy(x0)\n",
    "    x_curr = np.copy(x0)\n",
    "    x_next = np.copy(x0)\n",
    "    for i in range(iterations):\n",
    "        x = gs_step(M,N,x_next,y)\n",
    "        #print(\"gs_step:\" , x)\n",
    "        #print(\"aitken_accel:\" , aitken_accel(x_curr, x_next,x))\n",
    "        x = x - aitken_accel(x_curr, x_next,x)\n",
    "        x_prev = x_curr\n",
    "        x_curr = x_next\n",
    "        x_next = x\n",
    "        #print(x_next)\n",
    "    return x_next\n",
    "    "
   ]
  },
  {
   "cell_type": "code",
   "execution_count": 7,
   "id": "9ebbaf7f",
   "metadata": {},
   "outputs": [
    {
     "data": {
      "text/plain": [
       "array([-1., -1., -1.])"
      ]
     },
     "execution_count": 7,
     "metadata": {},
     "output_type": "execute_result"
    }
   ],
   "source": [
    "C, d = forward_elimination(A,y)\n",
    "\n",
    "exact_x = back_substitution(C, d)\n",
    "exact_x"
   ]
  },
  {
   "cell_type": "code",
   "execution_count": 22,
   "id": "f32d3096",
   "metadata": {},
   "outputs": [
    {
     "name": "stdout",
     "output_type": "stream",
     "text": [
      "error in GS with 3 iterations:\n",
      " 0.5468789192578554\n"
     ]
    }
   ],
   "source": [
    "x, history = gauss_seidel(M,N,x0,y,3)\n",
    "#print(history)\n",
    "#print(np.matmul(A,x))\n",
    "print(\"error in GS with 3 iterations:\\n\", np.max(x - exact_x))"
   ]
  },
  {
   "cell_type": "code",
   "execution_count": 23,
   "id": "6b62b4cf",
   "metadata": {},
   "outputs": [
    {
     "name": "stdout",
     "output_type": "stream",
     "text": [
      "error in GS with Aitken acceleration with 3 iterations:\n",
      " 0.022973000292216494\n"
     ]
    }
   ],
   "source": [
    "z = []\n",
    "z.append( history[1] - aitken_accel(np.zeros(np.shape(history[0])),history[0], history[1]))\n",
    "z.append( history[2] - aitken_accel(history[0],history[1], history[2]))\n",
    "z.append( history[3] - aitken_accel(history[1], history[2], history[3]))\n",
    "\n",
    "#print(z)\n",
    "print(\"error in GS with Aitken acceleration with 3 iterations:\\n\", np.max(z[2]-exact_x))"
   ]
  },
  {
   "cell_type": "code",
   "execution_count": 21,
   "id": "dc3d2c2d",
   "metadata": {},
   "outputs": [
    {
     "name": "stdout",
     "output_type": "stream",
     "text": [
      "error in GS with 15 iterations: 0.025450379373500254\n",
      "error in GS with 16 iterations: 0.019709463667692217\n"
     ]
    }
   ],
   "source": [
    "x_check, history = gauss_seidel(M,N,np.zeros((3)),y, 16)\n",
    "#print(x_check)\n",
    "print(\"error in GS with 15 iterations:\", np.max(history[15]-exact_x))\n",
    "print(\"error in GS with 16 iterations:\", np.max(x_check-exact_x))"
   ]
  },
  {
   "cell_type": "code",
   "execution_count": null,
   "id": "7daac632",
   "metadata": {},
   "outputs": [],
   "source": []
  }
 ],
 "metadata": {
  "kernelspec": {
   "display_name": "Python 3 (ipykernel)",
   "language": "python",
   "name": "python3"
  },
  "language_info": {
   "codemirror_mode": {
    "name": "ipython",
    "version": 3
   },
   "file_extension": ".py",
   "mimetype": "text/x-python",
   "name": "python",
   "nbconvert_exporter": "python",
   "pygments_lexer": "ipython3",
   "version": "3.9.7"
  }
 },
 "nbformat": 4,
 "nbformat_minor": 5
}
