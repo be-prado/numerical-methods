{
 "cells": [
  {
   "cell_type": "markdown",
   "id": "d3886f6f",
   "metadata": {},
   "source": [
    "# Finite Difference Method to Solve a Second Order Boundary Value Problem"
   ]
  },
  {
   "cell_type": "code",
   "execution_count": 72,
   "id": "7dd0ca58",
   "metadata": {},
   "outputs": [],
   "source": [
    "import numpy as np\n",
    "import matplotlib.pyplot as plt\n",
    "import pandas as pd"
   ]
  },
  {
   "cell_type": "code",
   "execution_count": 73,
   "id": "6b4aba88",
   "metadata": {},
   "outputs": [],
   "source": [
    "def forward_elimination(A,b):\n",
    "    n =  np.shape(A)[0]\n",
    "    for k in range(0,n-1):\n",
    "        for i in range(k+1,n):\n",
    "            m = A[i,k]/A[k,k]\n",
    "            for j in range(k,n):\n",
    "                #print(i, j, A[i,j], A[k,j])\n",
    "                A[i,j] = A[i,j] - m*A[k,j]\n",
    "            b[i] = b[i] - m*b[k]\n",
    "    #print(A,b)\n",
    "    return A, b                "
   ]
  },
  {
   "cell_type": "code",
   "execution_count": 74,
   "id": "b1a41ff3",
   "metadata": {},
   "outputs": [],
   "source": [
    "def back_substitution(A,b):\n",
    "    n = np.shape(A)[0]\n",
    "    x = np.zeros(n)\n",
    "    x[n-1] = b[n-1] / A[n-1,n-1]\n",
    "    for i in range(n-2,-1,-1):\n",
    "        #print(i)\n",
    "        _sum = 0\n",
    "        for j in range(n-1,i,-1):\n",
    "            #print(\"j:\", j)\n",
    "            _sum += A[i,j] * x[j]\n",
    "        x[i] = (b[i] - _sum) / A[i,i]\n",
    "    \n",
    "    #print(x)\n",
    "    return x"
   ]
  },
  {
   "cell_type": "markdown",
   "id": "08825fb4",
   "metadata": {},
   "source": [
    "### Finite difference scheme for the equation $u''(x) = e^x$ with boundary conditions $u'(0) = u(1) = 0$.\n",
    "\n"
   ]
  },
  {
   "cell_type": "code",
   "execution_count": 75,
   "id": "4b3b86f3",
   "metadata": {},
   "outputs": [],
   "source": [
    "def set_up_matrix(n):\n",
    "    h = 1/n\n",
    "    # finite difference matrix for the problem\n",
    "    A = np.zeros((n,n))\n",
    "    A[0,0] = -2\n",
    "    A[0,1] = 2\n",
    "    for i in range(1,n-1):\n",
    "        A[i,i] = -2\n",
    "        A[i,i-1] = 1\n",
    "        A[i,i+1] = 1\n",
    "    A[n-1,n-2] = 1\n",
    "    A[n-1,n-1] = -2\n",
    "    A = A/(h**2)\n",
    "\n",
    "    # discretized right-hand side\n",
    "    b = np.zeros(n)\n",
    "    for i in range(n):\n",
    "        b[i] = np.exp(i*h)\n",
    "\n",
    "    return A, b\n",
    "\n",
    "# solve the system with n grid points\n",
    "def solve_equation(n):\n",
    "    \n",
    "    A, b = set_up_matrix(n)\n",
    "    # perform Gaussian elimination on A and b\n",
    "    ge_A, ge_b = forward_elimination(A,b)\n",
    "    # compute solution using back substitution\n",
    "    U = back_substitution(ge_A, ge_b)\n",
    "    return U\n",
    "\n",
    "def solve_equation2(n):\n",
    "    A, b = set_up_matrix(n)\n",
    "    b[0] = 0\n",
    "    # perform Gaussian elimination on A and b\n",
    "    ge_A, ge_b = forward_elimination(A,b)\n",
    "    # compute solution using back substitution\n",
    "    U = back_substitution(ge_A, ge_b)\n",
    "    return U\n",
    "\n",
    "def discretize_analytic_sol(n):\n",
    "    h = 1/n\n",
    "    u = np.zeros(n)\n",
    "    for i in range(n):\n",
    "        u[i] = np.exp(i*h) - i*h + 1 - np.exp(1)\n",
    "    return u"
   ]
  },
  {
   "cell_type": "code",
   "execution_count": 85,
   "id": "58fa4628",
   "metadata": {},
   "outputs": [
    {
     "name": "stdout",
     "output_type": "stream",
     "text": [
      "Computed solution for (i): U = [-0.71771557 -0.71646557 -0.7125874  -0.70594629 -0.6964006  -0.6838014\n",
      " -0.66799214 -0.64880823 -0.62607666 -0.59961552 -0.5692336  -0.53472988\n",
      " -0.49589302 -0.45250087 -0.40431987 -0.35110448 -0.29259659 -0.22852486\n",
      " -0.158604   -0.08253414]\n",
      "Computed solution for (ii): U = [-0.69271557 -0.69271557 -0.6900874  -0.68469629 -0.6764006  -0.6650514\n",
      " -0.65049214 -0.63255823 -0.61107666 -0.58586552 -0.5567336  -0.52347988\n",
      " -0.48589302 -0.44375087 -0.39681987 -0.34485448 -0.28759659 -0.22477486\n",
      " -0.156104   -0.08128414]\n",
      "Analytic solution: u =  [-0.71828183 -0.71701073 -0.71311091 -0.70644759 -0.69687907 -0.68425641\n",
      " -0.66842302 -0.64921428 -0.62645713 -0.59996964 -0.56956056 -0.53502881\n",
      " -0.49616303 -0.452741   -0.40452912 -0.35128181 -0.2927409  -0.22863498\n",
      " -0.15867872 -0.08257217]\n"
     ]
    }
   ],
   "source": [
    "# solve the system with 20 grid points\n",
    "n = 20\n",
    "h = 1/20\n",
    "\n",
    "U1 = solve_equation(n)\n",
    "print(\"Computed solution for (i): U =\", U1)\n",
    "\n",
    "\n",
    "U2 = solve_equation2(n)\n",
    "print(\"Computed solution for (ii): U =\", U2)\n",
    "\n",
    "\n",
    "# analytic solution u to the equation\n",
    "u = np.zeros(n)\n",
    "for i in range(n):\n",
    "    u[i] = np.exp(i*h) - i*h + 1 - np.exp(1)\n",
    "print(\"Analytic solution: u = \", u)"
   ]
  },
  {
   "cell_type": "code",
   "execution_count": 88,
   "id": "61c307b4",
   "metadata": {},
   "outputs": [
    {
     "data": {
      "image/png": "[encoded data removed]",
      "text/plain": [
       "<Figure size 432x288 with 1 Axes>"
      ]
     },
     "metadata": {
      "needs_background": "light"
     },
     "output_type": "display_data"
    }
   ],
   "source": [
    "# compare computed solution to analytic solution\n",
    "\n",
    "inputs = [i*h for i in range(20)]\n",
    "\n",
    "plt. title(\"Plots of Computed Solution and the Analytic Solution\")\n",
    "plt.xlabel(\"x\")\n",
    "plt.ylabel(\"u(x)\")\n",
    "plt.plot(inputs, u, color = \"green\", label = \"true solution\", linewidth = 0.5)\n",
    "#plt.plot(inputs, U, color = \"orange\", label = \"computed solution\", linewidth = 0.2)\n",
    "plt.scatter(inputs, U1, color = \"orange\",label = \"computed solution with O(h^2) error\", marker = \"x\",linewidths=0.9)\n",
    "plt.scatter(inputs, U2, color = \"purple\",label = \"computed solution with O(h) error\", marker = \"x\",linewidths=0.5)\n",
    "plt.legend()\n",
    "plt.savefig(\"solutions_plot.png\")\n",
    "plt.show()"
   ]
  },
  {
   "cell_type": "code",
   "execution_count": 87,
   "id": "c61dbc63",
   "metadata": {},
   "outputs": [
    {
     "data": {
      "image/png": "[encoded data removed]",
      "text/plain": [
       "<Figure size 432x288 with 1 Axes>"
      ]
     },
     "metadata": {
      "needs_background": "light"
     },
     "output_type": "display_data"
    }
   ],
   "source": [
    "# compare grid sizes\n",
    "\n",
    "# array of grid sizes we want to compare.\n",
    "grid_sizes = np.array([20, 40, 80, 160])\n",
    "# array of step sizes\n",
    "step_size_array = 1/grid_sizes\n",
    "# computed solutions\n",
    "U1_array = []\n",
    "U2_array = []\n",
    "# max pointwise error array per grid size\n",
    "E1 = np.zeros(4)\n",
    "E2 = np.zeros(4)\n",
    "\n",
    "# compute the solutions using the finite difference method and the error at the\n",
    "# worst approximated grid point for the different grid sizes\n",
    "for i in range(4):\n",
    "    # add computed solution to our array of solutions\n",
    "    U1_array.append(solve_equation(grid_sizes[i]))\n",
    "    U2_array.append(solve_equation2(grid_sizes[i]))\n",
    "    # true solution\n",
    "    v = discretize_analytic_sol(grid_sizes[i])\n",
    "    # total error vector\n",
    "    error1 = U1_array[i] - v\n",
    "    error2 = U2_array[i] - v\n",
    "    # error at the worst grid point\n",
    "    E1[i] = np.max(error1)\n",
    "    E2[i] = np.max(error2)\n",
    "    \n",
    "# plot log(max error) vs log(step size)\n",
    "plt.title(\"log of the Largest Pointwise Error vs log of the Step Size\")\n",
    "plt.ylabel(\"log(max error)\")\n",
    "plt.xlabel(\"log(step size)\")\n",
    "plt.plot(step_size_array, E1, color = \"blue\", label = \"Error for O(h^2) solution\")\n",
    "plt.plot(step_size_array, E2, color = \"orange\", label = \"Error for O(h) solution\")\n",
    "plt.legend()\n",
    "plt.yscale(\"log\")\n",
    "plt.xscale(\"log\")\n",
    "plt.savefig(\"error_plot.png\")"
   ]
  },
  {
   "cell_type": "code",
   "execution_count": null,
   "id": "667cbace",
   "metadata": {},
   "outputs": [],
   "source": []
  }
 ],
 "metadata": {
  "kernelspec": {
   "display_name": "Python 3 (ipykernel)",
   "language": "python",
   "name": "python3"
  },
  "language_info": {
   "codemirror_mode": {
    "name": "ipython",
    "version": 3
   },
   "file_extension": ".py",
   "mimetype": "text/x-python",
   "name": "python",
   "nbconvert_exporter": "python",
   "pygments_lexer": "ipython3",
   "version": "3.9.7"
  }
 },
 "nbformat": 4,
 "nbformat_minor": 5
}
