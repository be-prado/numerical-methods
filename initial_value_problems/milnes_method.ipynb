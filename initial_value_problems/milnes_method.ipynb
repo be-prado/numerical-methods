{
 "cells": [
  {
   "cell_type": "code",
   "execution_count": 5,
   "id": "48c40203",
   "metadata": {},
   "outputs": [],
   "source": [
    "import numpy as np\n",
    "import matplotlib.pyplot as plt\n",
    "import math"
   ]
  },
  {
   "cell_type": "markdown",
   "id": "ec0eb27b",
   "metadata": {},
   "source": [
    "## Milne's Method functions for the general equation $u' = \\lambda u$ with $u(0) = u_0$"
   ]
  },
  {
   "cell_type": "code",
   "execution_count": 26,
   "id": "d5253334",
   "metadata": {},
   "outputs": [],
   "source": [
    "# this computes one iteration of Euler's method\n",
    "# for the second initial condition needed in Milne's method\n",
    "for_step = lambda u0, k, _lam = 1 : u0 + _lam*k*u0\n",
    "back_step = lambda u0, k, _lam = 1 : u0 / (1-_lam*k)\n",
    "\n",
    "# Milne's method\n",
    "def milne(u0, u1, k, t, _lam = 1):\n",
    "    u = np.zeros(int(t/k)+1)\n",
    "    u[0] = u0\n",
    "    u[1] = u1\n",
    "    # Milne's step\n",
    "    for i in range(1,int(t/k)):\n",
    "        u[i+1] = ( u[i-1] + (k/3) * _lam * (4 * u[i] + u[i-1]) ) / (1 - _lam * k/3)\n",
    "    return u\n",
    "\n",
    "# error at time t\n",
    "def error(u0, u1, k, t, _lam = 1):\n",
    "    i = int(t/k)\n",
    "    sol = milne(u0, u1, k, t, _lam)\n",
    "    return abs( u0*math.e**(_lam*t) - sol[i])"
   ]
  },
  {
   "cell_type": "code",
   "execution_count": 27,
   "id": "ddeca718",
   "metadata": {},
   "outputs": [],
   "source": [
    "# stepsizes\n",
    "k1 = 0.1\n",
    "k2 = 0.01\n",
    "# initial condition\n",
    "u0 = 1"
   ]
  },
  {
   "cell_type": "markdown",
   "id": "e1d7a65d",
   "metadata": {},
   "source": [
    "## Milne's Method for the system  $u' = u \\,,\\,\\, u(0)=1$"
   ]
  },
  {
   "cell_type": "code",
   "execution_count": 29,
   "id": "b9f2aa5c",
   "metadata": {},
   "outputs": [
    {
     "data": {
      "image/png": "[encoded data removed]",
      "text/plain": [
       "<Figure size 432x288 with 1 Axes>"
      ]
     },
     "metadata": {
      "needs_background": "light"
     },
     "output_type": "display_data"
    }
   ],
   "source": [
    "# plot solution\n",
    "U = milne(u0,for_step(u0,k1), k1,5)\n",
    "plt.plot([k1*i for i in range(int(5/k1)+1)] , U)\n",
    "plt.show()"
   ]
  },
  {
   "cell_type": "markdown",
   "id": "56890845",
   "metadata": {},
   "source": [
    "#### Error at $t=5$"
   ]
  },
  {
   "cell_type": "code",
   "execution_count": 41,
   "id": "05c15d7c",
   "metadata": {},
   "outputs": [
    {
     "name": "stdout",
     "output_type": "stream",
     "text": [
      "Absolute Error at t=5 for u' = u with stepsize k = : 0.1 : 0.3694307319877339\n",
      "Relative Error at t=5 for u' = u with stepsize k = : 0.1 : 0.0024892046919666997\n",
      "Absolute Error at t=5 for u' = u with stepsize k = : 0.01 : 0.0037054937544667155\n",
      "Relative Error at t=5 for u' = u with stepsize k = : 0.01 : 2.496742052303895e-05\n"
     ]
    }
   ],
   "source": [
    "# error at time t=5\n",
    "print(\"Absolute Error at t=5 for u' = u with stepsize k = : \" + str(k1) + \" : \" + str(error(u0,for_step(u0,k1), k1,5)) )\n",
    "print(\"Relative Error at t=5 for u' = u with stepsize k = : \" + str(k1) + \" : \" + \\\n",
    "                                                                      str(error(u0,for_step(u0,k1), k1,5) / math.e**5) )\n",
    "print(\"Absolute Error at t=5 for u' = u with stepsize k = : \" + str(k2) + \" : \" + str(error(u0,for_step(u0,k2), k2,5)) )\n",
    "print(\"Relative Error at t=5 for u' = u with stepsize k = : \" + str(k2) + \" : \" + \\\n",
    "                                                                      str(error(u0,for_step(u0,k2), k2,5) / math.e**5) )"
   ]
  },
  {
   "cell_type": "markdown",
   "id": "21950130",
   "metadata": {},
   "source": [
    "## Milne's Method for the system  $u' = -u \\,,\\,\\, u(0)=1$"
   ]
  },
  {
   "cell_type": "code",
   "execution_count": 31,
   "id": "f2c02b8d",
   "metadata": {},
   "outputs": [
    {
     "data": {
      "image/png": "[encoded data removed]",
      "text/plain": [
       "<Figure size 432x288 with 1 Axes>"
      ]
     },
     "metadata": {
      "needs_background": "light"
     },
     "output_type": "display_data"
    }
   ],
   "source": [
    "# plot solution\n",
    "V = milne(u0, back_step(u0,k2,-1), k2, t=5, _lam = -1)\n",
    "plt.plot([k2*i for i in range(int(5/k2)+1)] , V)\n",
    "plt.show()"
   ]
  },
  {
   "cell_type": "markdown",
   "id": "ef8507d1",
   "metadata": {},
   "source": [
    "#### Error at $t=5$"
   ]
  },
  {
   "cell_type": "code",
   "execution_count": 33,
   "id": "3e73c0b7",
   "metadata": {},
   "outputs": [
    {
     "name": "stdout",
     "output_type": "stream",
     "text": [
      "Absolute Error at t=5 for u' = -u with stepsize k = : 0.1 : 0.011587086813777205\n",
      "Relative Error at t=5 for u' = -u with stepsize k = : 0.1 : 1.7196761588284832\n",
      "Absolute Error at t=5 for u' = -u with stepsize k = : 0.01 : 0.00013044525238188782\n",
      "Relative Error at t=5 for u' = -u with stepsize k = : 0.01 : 0.019359791995928872\n"
     ]
    }
   ],
   "source": [
    "print(\"Absolute Error at t=5 for u' = -u with stepsize k = : \" + str(k1) + \" : \" + \\\n",
    "                                  str(error(u0,back_step(u0,k1,-1),k1,t=5,_lam=-1)) )\n",
    "print(\"Relative Error at t=5 for u' = -u with stepsize k = : \" + str(k1) + \" : \" + \\\n",
    "                                  str(error(u0,back_step(u0,k1,-1),k1,t=5,_lam=-1) / math.e**(-5)) )\n",
    "print(\"Absolute Error at t=5 for u' = -u with stepsize k = : \" + str(k2) + \" : \" + \\\n",
    "                                  str(error(u0,back_step(u0,k2,-1), k2,t=5,_lam=-1)) )\n",
    "print(\"Relative Error at t=5 for u' = -u with stepsize k = : \" + str(k2) + \" : \" + \\\n",
    "                                  str(error(u0,back_step(u0,k2,-1), k2,t=5,_lam=-1) / math.e**(-5)) )"
   ]
  },
  {
   "cell_type": "markdown",
   "id": "5b7b12a6",
   "metadata": {},
   "source": [
    "## Discussion"
   ]
  },
  {
   "cell_type": "markdown",
   "id": "2a59769e",
   "metadata": {},
   "source": [
    "We see that the error in these equations seems to be of order $k^2$ as the error decreases by a factor of about 1/100 when $k$ decreases by a factor of about 1/10. This is in contrast with the expected $k^4$ order error expected. The discrepancy comes because we are using forward Euler to initialize the method. This is a has an order of $k^2$ error in the initial condition and this error gets propagated throughout the solution as we march forward with the numerical method, leading to a worse approximation than we expected."
   ]
  },
  {
   "cell_type": "code",
   "execution_count": null,
   "id": "fbcb13a1",
   "metadata": {},
   "outputs": [],
   "source": []
  }
 ],
 "metadata": {
  "kernelspec": {
   "display_name": "Python 3 (ipykernel)",
   "language": "python",
   "name": "python3"
  },
  "language_info": {
   "codemirror_mode": {
    "name": "ipython",
    "version": 3
   },
   "file_extension": ".py",
   "mimetype": "text/x-python",
   "name": "python",
   "nbconvert_exporter": "python",
   "pygments_lexer": "ipython3",
   "version": "3.9.7"
  }
 },
 "nbformat": 4,
 "nbformat_minor": 5
}
